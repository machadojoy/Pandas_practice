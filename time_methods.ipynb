{
 "cells": [
  {
   "cell_type": "code",
   "execution_count": 3,
   "id": "00d4c7da-9132-43bd-94a0-e3a41df88224",
   "metadata": {},
   "outputs": [],
   "source": [
    "import numpy as np\n",
    "import pandas as pd\n",
    "\n",
    "from datetime import datetime"
   ]
  },
  {
   "cell_type": "code",
   "execution_count": 4,
   "id": "8b3963bf-f2cf-4a30-a7b6-cca32eb100d7",
   "metadata": {},
   "outputs": [],
   "source": [
    "# To illustrate the order of arguments\n",
    "my_year = 2017\n",
    "my_month = 1\n",
    "my_day = 2\n",
    "my_hour = 13\n",
    "my_minute = 30\n",
    "my_second = 15"
   ]
  },
  {
   "cell_type": "code",
   "execution_count": 5,
   "id": "dd39bb33-b9e6-4e7b-8dba-36edc8469548",
   "metadata": {},
   "outputs": [],
   "source": [
    "myser = pd.Series(['Nov 3, 2000', '2000-01-01', None])"
   ]
  },
  {
   "cell_type": "code",
   "execution_count": 13,
   "id": "77dfafdd-9498-4000-a073-b97d2cd2a88c",
   "metadata": {},
   "outputs": [
    {
     "data": {
      "text/plain": [
       "0    Nov 3, 2000\n",
       "1     2000-01-01\n",
       "2           None\n",
       "dtype: object"
      ]
     },
     "execution_count": 13,
     "metadata": {},
     "output_type": "execute_result"
    }
   ],
   "source": [
    "myser"
   ]
  },
  {
   "cell_type": "code",
   "execution_count": 6,
   "id": "9bfd6736-2815-4e2f-b31f-31eb335b8548",
   "metadata": {},
   "outputs": [
    {
     "data": {
      "text/plain": [
       "0   2000-11-03\n",
       "1          NaT\n",
       "2          NaT\n",
       "dtype: datetime64[ns]"
      ]
     },
     "execution_count": 6,
     "metadata": {},
     "output_type": "execute_result"
    }
   ],
   "source": [
    "pd.to_datetime(myser, errors='coerce')"
   ]
  },
  {
   "cell_type": "code",
   "execution_count": 7,
   "id": "4135c5bc-7c04-456d-882a-02f8eec331e1",
   "metadata": {},
   "outputs": [],
   "source": [
    "timeser = pd.to_datetime(myser, errors='coerce')"
   ]
  },
  {
   "cell_type": "code",
   "execution_count": 18,
   "id": "f253e014-ddc8-44be-af64-c0c0cb4e51b0",
   "metadata": {},
   "outputs": [
    {
     "data": {
      "text/plain": [
       "Timestamp('2000-11-03 00:00:00')"
      ]
     },
     "execution_count": 18,
     "metadata": {},
     "output_type": "execute_result"
    }
   ],
   "source": [
    "timeser[0]"
   ]
  },
  {
   "cell_type": "code",
   "execution_count": 19,
   "id": "d6990d48-11c5-46db-b69c-b585e0d26f2f",
   "metadata": {},
   "outputs": [
    {
     "data": {
      "text/plain": [
       "2000"
      ]
     },
     "execution_count": 19,
     "metadata": {},
     "output_type": "execute_result"
    }
   ],
   "source": [
    "timeser[0].year"
   ]
  },
  {
   "cell_type": "code",
   "execution_count": 20,
   "id": "a1ba0101-714c-4ece-b5b1-6219bb1b2b8d",
   "metadata": {},
   "outputs": [],
   "source": [
    "euro_date = \"31-12-2000\""
   ]
  },
  {
   "cell_type": "code",
   "execution_count": 22,
   "id": "99506a92-125d-4bbc-9f50-7e3ea14cfe33",
   "metadata": {},
   "outputs": [
    {
     "data": {
      "text/plain": [
       "Timestamp('2000-12-31 00:00:00')"
      ]
     },
     "execution_count": 22,
     "metadata": {},
     "output_type": "execute_result"
    }
   ],
   "source": [
    "pd.to_datetime(euro_date, dayfirst=True)"
   ]
  },
  {
   "cell_type": "code",
   "execution_count": 23,
   "id": "087b0638-1a5a-45f4-972b-e25dd93f2e48",
   "metadata": {},
   "outputs": [],
   "source": [
    "euro_date = \"10-12-2000\""
   ]
  },
  {
   "cell_type": "code",
   "execution_count": 25,
   "id": "0ac76b13-e1ac-4f2e-a727-a4b4e44d9d9c",
   "metadata": {},
   "outputs": [
    {
     "data": {
      "text/plain": [
       "Timestamp('2000-10-12 00:00:00')"
      ]
     },
     "execution_count": 25,
     "metadata": {},
     "output_type": "execute_result"
    }
   ],
   "source": [
    "pd.to_datetime(euro_date)"
   ]
  },
  {
   "cell_type": "code",
   "execution_count": 26,
   "id": "73adfc7d-cfb3-410f-ad81-9b759c9aeb3c",
   "metadata": {},
   "outputs": [
    {
     "data": {
      "text/plain": [
       "Timestamp('2000-12-10 00:00:00')"
      ]
     },
     "execution_count": 26,
     "metadata": {},
     "output_type": "execute_result"
    }
   ],
   "source": [
    "pd.to_datetime(euro_date, dayfirst=True)"
   ]
  },
  {
   "cell_type": "code",
   "execution_count": 27,
   "id": "9985f9e8-6031-4aa1-8aad-9b2aa5c7c873",
   "metadata": {},
   "outputs": [],
   "source": [
    "style_date = '12--Dec--2000'"
   ]
  },
  {
   "cell_type": "code",
   "execution_count": 29,
   "id": "ebfb9769-5176-4589-bdb4-99f52af1b46a",
   "metadata": {},
   "outputs": [
    {
     "data": {
      "text/plain": [
       "Timestamp('2000-12-12 00:00:00')"
      ]
     },
     "execution_count": 29,
     "metadata": {},
     "output_type": "execute_result"
    }
   ],
   "source": [
    "pd.to_datetime(style_date, format='%d--%b--%Y')"
   ]
  },
  {
   "cell_type": "code",
   "execution_count": 9,
   "id": "db1ce94d-f419-4428-b574-095aeec7d2bc",
   "metadata": {},
   "outputs": [],
   "source": [
    "strange_date = '12th of Dec 2000'"
   ]
  },
  {
   "cell_type": "code",
   "execution_count": 10,
   "id": "d82e45f1-e77c-4f16-814c-bafc17faa48f",
   "metadata": {},
   "outputs": [
    {
     "data": {
      "text/plain": [
       "Timestamp('2000-12-12 00:00:00')"
      ]
     },
     "execution_count": 10,
     "metadata": {},
     "output_type": "execute_result"
    }
   ],
   "source": [
    "pd.to_datetime(strange_date)"
   ]
  },
  {
   "cell_type": "code",
   "execution_count": 11,
   "id": "07f119b3-f073-4b57-8985-a93350d216d0",
   "metadata": {},
   "outputs": [],
   "source": [
    "sales = pd.read_csv(\"RetailSales_BeerWineLiquor.csv\")"
   ]
  },
  {
   "cell_type": "code",
   "execution_count": 12,
   "id": "57aa4b8d-89e2-4aed-a6d1-4ef96f8b2298",
   "metadata": {},
   "outputs": [
    {
     "data": {
      "text/html": [
       "<div>\n",
       "<style scoped>\n",
       "    .dataframe tbody tr th:only-of-type {\n",
       "        vertical-align: middle;\n",
       "    }\n",
       "\n",
       "    .dataframe tbody tr th {\n",
       "        vertical-align: top;\n",
       "    }\n",
       "\n",
       "    .dataframe thead th {\n",
       "        text-align: right;\n",
       "    }\n",
       "</style>\n",
       "<table border=\"1\" class=\"dataframe\">\n",
       "  <thead>\n",
       "    <tr style=\"text-align: right;\">\n",
       "      <th></th>\n",
       "      <th>DATE</th>\n",
       "      <th>MRTSSM4453USN</th>\n",
       "    </tr>\n",
       "  </thead>\n",
       "  <tbody>\n",
       "    <tr>\n",
       "      <th>0</th>\n",
       "      <td>1992-01-01</td>\n",
       "      <td>1509</td>\n",
       "    </tr>\n",
       "    <tr>\n",
       "      <th>1</th>\n",
       "      <td>1992-02-01</td>\n",
       "      <td>1541</td>\n",
       "    </tr>\n",
       "    <tr>\n",
       "      <th>2</th>\n",
       "      <td>1992-03-01</td>\n",
       "      <td>1597</td>\n",
       "    </tr>\n",
       "    <tr>\n",
       "      <th>3</th>\n",
       "      <td>1992-04-01</td>\n",
       "      <td>1675</td>\n",
       "    </tr>\n",
       "    <tr>\n",
       "      <th>4</th>\n",
       "      <td>1992-05-01</td>\n",
       "      <td>1822</td>\n",
       "    </tr>\n",
       "    <tr>\n",
       "      <th>...</th>\n",
       "      <td>...</td>\n",
       "      <td>...</td>\n",
       "    </tr>\n",
       "    <tr>\n",
       "      <th>335</th>\n",
       "      <td>2019-12-01</td>\n",
       "      <td>6630</td>\n",
       "    </tr>\n",
       "    <tr>\n",
       "      <th>336</th>\n",
       "      <td>2020-01-01</td>\n",
       "      <td>4388</td>\n",
       "    </tr>\n",
       "    <tr>\n",
       "      <th>337</th>\n",
       "      <td>2020-02-01</td>\n",
       "      <td>4533</td>\n",
       "    </tr>\n",
       "    <tr>\n",
       "      <th>338</th>\n",
       "      <td>2020-03-01</td>\n",
       "      <td>5562</td>\n",
       "    </tr>\n",
       "    <tr>\n",
       "      <th>339</th>\n",
       "      <td>2020-04-01</td>\n",
       "      <td>5207</td>\n",
       "    </tr>\n",
       "  </tbody>\n",
       "</table>\n",
       "<p>340 rows × 2 columns</p>\n",
       "</div>"
      ],
      "text/plain": [
       "           DATE  MRTSSM4453USN\n",
       "0    1992-01-01           1509\n",
       "1    1992-02-01           1541\n",
       "2    1992-03-01           1597\n",
       "3    1992-04-01           1675\n",
       "4    1992-05-01           1822\n",
       "..          ...            ...\n",
       "335  2019-12-01           6630\n",
       "336  2020-01-01           4388\n",
       "337  2020-02-01           4533\n",
       "338  2020-03-01           5562\n",
       "339  2020-04-01           5207\n",
       "\n",
       "[340 rows x 2 columns]"
      ]
     },
     "execution_count": 12,
     "metadata": {},
     "output_type": "execute_result"
    }
   ],
   "source": [
    "sales"
   ]
  },
  {
   "cell_type": "code",
   "execution_count": 13,
   "id": "45c85625-0a94-46c8-bcfe-194cb52a9b57",
   "metadata": {},
   "outputs": [],
   "source": [
    "sales[\"DATE\"] = pd.to_datetime(sales[\"DATE\"])"
   ]
  },
  {
   "cell_type": "code",
   "execution_count": 15,
   "id": "ce4f3589-cc71-40c2-89fe-908e9a5cbeae",
   "metadata": {},
   "outputs": [
    {
     "data": {
      "text/plain": [
       "Timestamp('1992-01-01 00:00:00')"
      ]
     },
     "execution_count": 15,
     "metadata": {},
     "output_type": "execute_result"
    }
   ],
   "source": [
    "sales[\"DATE\"][0]"
   ]
  },
  {
   "cell_type": "code",
   "execution_count": 17,
   "id": "c8c1afe2-6a3f-4a48-8a9f-eeaf76ed7ecf",
   "metadata": {},
   "outputs": [],
   "source": [
    "sales = pd.read_csv(\"RetailSales_BeerWineLiquor.csv\", parse_dates=[\"DATE\"])"
   ]
  },
  {
   "cell_type": "code",
   "execution_count": 18,
   "id": "ab23cafd-587b-4059-bf4f-c4ee77c41541",
   "metadata": {},
   "outputs": [
    {
     "data": {
      "text/html": [
       "<div>\n",
       "<style scoped>\n",
       "    .dataframe tbody tr th:only-of-type {\n",
       "        vertical-align: middle;\n",
       "    }\n",
       "\n",
       "    .dataframe tbody tr th {\n",
       "        vertical-align: top;\n",
       "    }\n",
       "\n",
       "    .dataframe thead th {\n",
       "        text-align: right;\n",
       "    }\n",
       "</style>\n",
       "<table border=\"1\" class=\"dataframe\">\n",
       "  <thead>\n",
       "    <tr style=\"text-align: right;\">\n",
       "      <th></th>\n",
       "      <th>DATE</th>\n",
       "      <th>MRTSSM4453USN</th>\n",
       "    </tr>\n",
       "  </thead>\n",
       "  <tbody>\n",
       "    <tr>\n",
       "      <th>0</th>\n",
       "      <td>1992-01-01</td>\n",
       "      <td>1509</td>\n",
       "    </tr>\n",
       "    <tr>\n",
       "      <th>1</th>\n",
       "      <td>1992-02-01</td>\n",
       "      <td>1541</td>\n",
       "    </tr>\n",
       "    <tr>\n",
       "      <th>2</th>\n",
       "      <td>1992-03-01</td>\n",
       "      <td>1597</td>\n",
       "    </tr>\n",
       "    <tr>\n",
       "      <th>3</th>\n",
       "      <td>1992-04-01</td>\n",
       "      <td>1675</td>\n",
       "    </tr>\n",
       "    <tr>\n",
       "      <th>4</th>\n",
       "      <td>1992-05-01</td>\n",
       "      <td>1822</td>\n",
       "    </tr>\n",
       "    <tr>\n",
       "      <th>...</th>\n",
       "      <td>...</td>\n",
       "      <td>...</td>\n",
       "    </tr>\n",
       "    <tr>\n",
       "      <th>335</th>\n",
       "      <td>2019-12-01</td>\n",
       "      <td>6630</td>\n",
       "    </tr>\n",
       "    <tr>\n",
       "      <th>336</th>\n",
       "      <td>2020-01-01</td>\n",
       "      <td>4388</td>\n",
       "    </tr>\n",
       "    <tr>\n",
       "      <th>337</th>\n",
       "      <td>2020-02-01</td>\n",
       "      <td>4533</td>\n",
       "    </tr>\n",
       "    <tr>\n",
       "      <th>338</th>\n",
       "      <td>2020-03-01</td>\n",
       "      <td>5562</td>\n",
       "    </tr>\n",
       "    <tr>\n",
       "      <th>339</th>\n",
       "      <td>2020-04-01</td>\n",
       "      <td>5207</td>\n",
       "    </tr>\n",
       "  </tbody>\n",
       "</table>\n",
       "<p>340 rows × 2 columns</p>\n",
       "</div>"
      ],
      "text/plain": [
       "          DATE  MRTSSM4453USN\n",
       "0   1992-01-01           1509\n",
       "1   1992-02-01           1541\n",
       "2   1992-03-01           1597\n",
       "3   1992-04-01           1675\n",
       "4   1992-05-01           1822\n",
       "..         ...            ...\n",
       "335 2019-12-01           6630\n",
       "336 2020-01-01           4388\n",
       "337 2020-02-01           4533\n",
       "338 2020-03-01           5562\n",
       "339 2020-04-01           5207\n",
       "\n",
       "[340 rows x 2 columns]"
      ]
     },
     "execution_count": 18,
     "metadata": {},
     "output_type": "execute_result"
    }
   ],
   "source": [
    "sales"
   ]
  },
  {
   "cell_type": "code",
   "execution_count": 20,
   "id": "696d2850-189b-459f-b5e6-ef78b036a4a0",
   "metadata": {},
   "outputs": [],
   "source": [
    "sales = sales.set_index(\"DATE\")"
   ]
  },
  {
   "cell_type": "code",
   "execution_count": 21,
   "id": "453143b5-b09d-4de3-aa2d-6ee7d238880c",
   "metadata": {},
   "outputs": [
    {
     "data": {
      "text/html": [
       "<div>\n",
       "<style scoped>\n",
       "    .dataframe tbody tr th:only-of-type {\n",
       "        vertical-align: middle;\n",
       "    }\n",
       "\n",
       "    .dataframe tbody tr th {\n",
       "        vertical-align: top;\n",
       "    }\n",
       "\n",
       "    .dataframe thead th {\n",
       "        text-align: right;\n",
       "    }\n",
       "</style>\n",
       "<table border=\"1\" class=\"dataframe\">\n",
       "  <thead>\n",
       "    <tr style=\"text-align: right;\">\n",
       "      <th></th>\n",
       "      <th>MRTSSM4453USN</th>\n",
       "    </tr>\n",
       "    <tr>\n",
       "      <th>DATE</th>\n",
       "      <th></th>\n",
       "    </tr>\n",
       "  </thead>\n",
       "  <tbody>\n",
       "    <tr>\n",
       "      <th>1992-12-31</th>\n",
       "      <td>1807.250000</td>\n",
       "    </tr>\n",
       "    <tr>\n",
       "      <th>1993-12-31</th>\n",
       "      <td>1794.833333</td>\n",
       "    </tr>\n",
       "    <tr>\n",
       "      <th>1994-12-31</th>\n",
       "      <td>1841.750000</td>\n",
       "    </tr>\n",
       "    <tr>\n",
       "      <th>1995-12-31</th>\n",
       "      <td>1833.916667</td>\n",
       "    </tr>\n",
       "    <tr>\n",
       "      <th>1996-12-31</th>\n",
       "      <td>1929.750000</td>\n",
       "    </tr>\n",
       "    <tr>\n",
       "      <th>1997-12-31</th>\n",
       "      <td>2006.750000</td>\n",
       "    </tr>\n",
       "    <tr>\n",
       "      <th>1998-12-31</th>\n",
       "      <td>2115.166667</td>\n",
       "    </tr>\n",
       "    <tr>\n",
       "      <th>1999-12-31</th>\n",
       "      <td>2206.333333</td>\n",
       "    </tr>\n",
       "    <tr>\n",
       "      <th>2000-12-31</th>\n",
       "      <td>2375.583333</td>\n",
       "    </tr>\n",
       "    <tr>\n",
       "      <th>2001-12-31</th>\n",
       "      <td>2468.416667</td>\n",
       "    </tr>\n",
       "    <tr>\n",
       "      <th>2002-12-31</th>\n",
       "      <td>2491.166667</td>\n",
       "    </tr>\n",
       "    <tr>\n",
       "      <th>2003-12-31</th>\n",
       "      <td>2539.083333</td>\n",
       "    </tr>\n",
       "    <tr>\n",
       "      <th>2004-12-31</th>\n",
       "      <td>2682.416667</td>\n",
       "    </tr>\n",
       "    <tr>\n",
       "      <th>2005-12-31</th>\n",
       "      <td>2797.250000</td>\n",
       "    </tr>\n",
       "    <tr>\n",
       "      <th>2006-12-31</th>\n",
       "      <td>3001.333333</td>\n",
       "    </tr>\n",
       "    <tr>\n",
       "      <th>2007-12-31</th>\n",
       "      <td>3177.333333</td>\n",
       "    </tr>\n",
       "    <tr>\n",
       "      <th>2008-12-31</th>\n",
       "      <td>3292.000000</td>\n",
       "    </tr>\n",
       "    <tr>\n",
       "      <th>2009-12-31</th>\n",
       "      <td>3353.750000</td>\n",
       "    </tr>\n",
       "    <tr>\n",
       "      <th>2010-12-31</th>\n",
       "      <td>3450.083333</td>\n",
       "    </tr>\n",
       "    <tr>\n",
       "      <th>2011-12-31</th>\n",
       "      <td>3532.666667</td>\n",
       "    </tr>\n",
       "    <tr>\n",
       "      <th>2012-12-31</th>\n",
       "      <td>3697.083333</td>\n",
       "    </tr>\n",
       "    <tr>\n",
       "      <th>2013-12-31</th>\n",
       "      <td>3839.666667</td>\n",
       "    </tr>\n",
       "    <tr>\n",
       "      <th>2014-12-31</th>\n",
       "      <td>4023.833333</td>\n",
       "    </tr>\n",
       "    <tr>\n",
       "      <th>2015-12-31</th>\n",
       "      <td>4212.500000</td>\n",
       "    </tr>\n",
       "    <tr>\n",
       "      <th>2016-12-31</th>\n",
       "      <td>4434.416667</td>\n",
       "    </tr>\n",
       "    <tr>\n",
       "      <th>2017-12-31</th>\n",
       "      <td>4602.666667</td>\n",
       "    </tr>\n",
       "    <tr>\n",
       "      <th>2018-12-31</th>\n",
       "      <td>4830.666667</td>\n",
       "    </tr>\n",
       "    <tr>\n",
       "      <th>2019-12-31</th>\n",
       "      <td>4972.750000</td>\n",
       "    </tr>\n",
       "    <tr>\n",
       "      <th>2020-12-31</th>\n",
       "      <td>4922.500000</td>\n",
       "    </tr>\n",
       "  </tbody>\n",
       "</table>\n",
       "</div>"
      ],
      "text/plain": [
       "            MRTSSM4453USN\n",
       "DATE                     \n",
       "1992-12-31    1807.250000\n",
       "1993-12-31    1794.833333\n",
       "1994-12-31    1841.750000\n",
       "1995-12-31    1833.916667\n",
       "1996-12-31    1929.750000\n",
       "1997-12-31    2006.750000\n",
       "1998-12-31    2115.166667\n",
       "1999-12-31    2206.333333\n",
       "2000-12-31    2375.583333\n",
       "2001-12-31    2468.416667\n",
       "2002-12-31    2491.166667\n",
       "2003-12-31    2539.083333\n",
       "2004-12-31    2682.416667\n",
       "2005-12-31    2797.250000\n",
       "2006-12-31    3001.333333\n",
       "2007-12-31    3177.333333\n",
       "2008-12-31    3292.000000\n",
       "2009-12-31    3353.750000\n",
       "2010-12-31    3450.083333\n",
       "2011-12-31    3532.666667\n",
       "2012-12-31    3697.083333\n",
       "2013-12-31    3839.666667\n",
       "2014-12-31    4023.833333\n",
       "2015-12-31    4212.500000\n",
       "2016-12-31    4434.416667\n",
       "2017-12-31    4602.666667\n",
       "2018-12-31    4830.666667\n",
       "2019-12-31    4972.750000\n",
       "2020-12-31    4922.500000"
      ]
     },
     "execution_count": 21,
     "metadata": {},
     "output_type": "execute_result"
    }
   ],
   "source": [
    "sales.resample(rule='A').mean()"
   ]
  },
  {
   "cell_type": "code",
   "execution_count": null,
   "id": "5e1231b9-f33d-4dfd-a90f-b2b69065927c",
   "metadata": {},
   "outputs": [],
   "source": []
  }
 ],
 "metadata": {
  "kernelspec": {
   "display_name": "Python 3 (ipykernel)",
   "language": "python",
   "name": "python3"
  },
  "language_info": {
   "codemirror_mode": {
    "name": "ipython",
    "version": 3
   },
   "file_extension": ".py",
   "mimetype": "text/x-python",
   "name": "python",
   "nbconvert_exporter": "python",
   "pygments_lexer": "ipython3",
   "version": "3.11.5"
  }
 },
 "nbformat": 4,
 "nbformat_minor": 5
}
